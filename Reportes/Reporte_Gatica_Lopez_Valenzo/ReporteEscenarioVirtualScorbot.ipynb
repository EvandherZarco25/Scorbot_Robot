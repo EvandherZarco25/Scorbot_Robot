{
 "cells": [
  {
   "cell_type": "markdown",
   "id": "b16d8228",
   "metadata": {},
   "source": [
    "| Código | Description |\n",
    "| ------:| ----------- |\n",
    "| **Robotica-2025-I**  | Reporte Scorbot  |"
   ]
  },
  {
   "cell_type": "markdown",
   "id": "49e192d0-bc46-4e46-a1b8-84d4f19947ec",
   "metadata": {},
   "source": [
    "# Reporte Escenario Virtual  Scorbot"
   ]
  },
  {
   "cell_type": "markdown",
   "id": "fe0fe5ba-5625-43f2-8160-50c80f39d156",
   "metadata": {},
   "source": [
    "### CONTENIDO\n",
    "- [1. Introducción](#Introducción)\n",
    "- [2. Objetivos](#Objetivos)\n",
    "- [3. Descripcion General del Modelo](#DescripcionGeneraldelModelo)\n",
    "- [4. Estructura del Modelo](#EstructuradelModelo)\n",
    "- [5. Codigo SDF](#CodigoSDF)\n",
    "- [6. Resultados](#Resultados)\n",
    "- [7. Conclusión](#Conclusion)\n",
    "\n",
    "  "
   ]
  },
  {
   "cell_type": "markdown",
   "id": "cc4b50c2-6fee-42ab-8f4c-57ae8c797e31",
   "metadata": {},
   "source": [
    "---"
   ]
  },
  {
   "cell_type": "markdown",
   "id": "956f3a62-78ac-47db-8f13-93559b18c89a",
   "metadata": {},
   "source": [
    "## 1. Introducción <a name=\"Introduccion\"></a>\n",
    "\n",
    "El presente reporte describe el modelo SDF (Simulation Description Format) de una mesa estructural, diseñada para ser utilizada en simulaciones dentro de Gazebo. Esta mesa está configurada con una serie de componentes físicos, incluyendo columnas, barras y cilindros, que permiten la interacción con un robot. El objetivo principal de este modelo es proporcionar un entorno adecuado para simular la interacción de un robot móvil que pueda manipular los cilindros, recogiendo y moviéndolos, simulando las condiciones que se presentarían en un entorno real.\n",
    "Este modelo está diseñado con la intención de evaluar la capacidad del robot para interactuar con objetos sobre una mesa, un escenario común en pruebas de manipulación en robótica."
   ]
  },
  {
   "cell_type": "markdown",
   "id": "d25ccc5a-530a-4f96-8865-e14ab064d047",
   "metadata": {},
   "source": [
    "---"
   ]
  },
  {
   "cell_type": "markdown",
   "id": "cdf16c32-5c5d-4ab7-9d1c-766a39136b28",
   "metadata": {
    "jp-MarkdownHeadingCollapsed": true
   },
   "source": [
    "## 2. Objetivos   <a name=\"Objetivos\"></a>\n",
    "\n",
    "**Descripción del robot:**\n",
    "- Simulación Realista: Crear un entorno físico que permita simular la interacción de un robot con una mesa y objetos sobre ella.\n",
    "- Interacción Robótica: Proveer una base sobre la cual el robot pueda realizar tareas de levantamiento y movimiento de cilindros, practicando habilidades de manipulación.\n",
    "- Versatilidad: Permitir la personalización de los objetos sobre la mesa, como agregar o quitar cilindros, para variar los escenarios de prueba."
   ]
  },
  {
   "cell_type": "markdown",
   "id": "324d015f",
   "metadata": {},
   "source": [
    "---"
   ]
  },
  {
   "cell_type": "markdown",
   "id": "70f851af",
   "metadata": {},
   "source": [
    "## 3. Descripción General del Modelo\n",
    "\n",
    "### 3.1 Estructura Principal:\n",
    "\n",
    "El modelo de mesa consta de una superficie rectangular plana que simula la parte superior de una mesa. Las patas de la mesa están dispuestas en las cuatro esquinas, y las columnas verticales proporcionan soporte adicional, conectando las barras horizontales que refuerzan la estructura.\n",
    "\n",
    "\n",
    "<div align=\"center\" style=\"display: flex; justify-content: center; gap: 0; margin: 0;\">\n",
    "    <div style=\"text-align: center;\" >\n",
    "        <img src=\"Images/Imagen1.jpg\" alt=\"Figura 1. Medidas de la mesa\" width=\"80%\" height=\"auto\" />\n",
    "        <br>\n",
    "        <em></em>\n",
    "    </div>\n",
    "</div>"
   ]
  },
  {
   "cell_type": "markdown",
   "id": "97fc470e",
   "metadata": {},
   "source": [
    "- Superficie de la Mesa: La superficie tiene un tamaño de 1.5 metros de largo, 0.9 metros de ancho y  0.85 metros de altura desde ell suelo.\n",
    "\n",
    "- Patas de la Mesa: Son de forma rectangular y proporcionan soporte a la estructura. Cada pata tiene unas dimensiones de 0.1 metros de ancho, 0.1 metros de profundidad y 0.8 metros de altura. Están ubicadas en las cuatro esquinas de la mesa.\n",
    "\n",
    "### 3.2 Componentes Verticales\n",
    "\n",
    "Las columnas verticales se encuentran en la parte superior de la mesa, cada una con un tamaño de 0.05 metros de ancho y 1.4 metros de altura. Estas columnas proporcionan estabilidad y refuerzan la estructura general de la mesa.\n",
    "\n",
    "- Disposición de las Columnas: Las cuatro columnas están distribuidas en las esquinas, conectando las barras horizontales en la parte superior para reforzar la rigidez de la mesa.\n",
    "\n",
    "### 3.3 Cilindros Interactivos:\n",
    "\n",
    "Sobre la base de la mesa se encuentran dos cilindros que permiten que un robot interactúe con ellos. Los cilindros son de 0.005 metros de radio y 0.025 metros de altura, posicionados estratégicamente para proporcionar un desafío en la manipulación.\n",
    "\n",
    "- Posición de los cilindros: Los cilindros están situados sobre una base en la parte inferior de la mesa, a 0.925 metros sobre el nivel del suelo. Los cilindros están dispuestos en las dos partes laterales de la mesa para simular un entorno realista de trabajo.\n"
   ]
  },
  {
   "cell_type": "markdown",
   "id": "08c7345a",
   "metadata": {},
   "source": [
    "---"
   ]
  },
  {
   "cell_type": "markdown",
   "id": "ecf6cfcb",
   "metadata": {},
   "source": [
    "## 4. Estructura del modelo\n",
    "\n",
    "### 4.1 Superficie de la Mesa:\n",
    "La superficie de la mesa está hecha de material estándar, representado por un cubo con dimensiones de 1.5 x 0.8 x 0.1 metros. La mesa se encuentra a una altura de 0.85 metros sobre el suelo, lo que permite simular una mesa de trabajo estándar.\n",
    "\n",
    "### 4.2 Patas de la Mesa:\n",
    "Cada pata de la mesa tiene un tamaño de 0.1 metros de ancho, 0.1 metros de profundidad y 0.8 metros de altura. Las patas se distribuyen en las cuatro esquinas de la mesa, proporcionando estabilidad al modelo.\n",
    "\n",
    "### 4.3 Columnas y Barras Horizontales:\n",
    "Las columnas verticales tienen un tamaño de 0.05 metros de ancho y 1.4 metros de altura, y se colocan en las esquinas de la mesa. Las barras horizontales conectan las columnas y refuerzan la estructura de la mesa. Las barras son de 1.5 metros de largo y 0.05 metros de alto.\n",
    "\n",
    "### 4.4 Cilindros:\n",
    "Los cilindros, que forman la parte interactiva del modelo, están ubicados sobre una base de 0.3 x 0.3 x 0.05 metros. Los cilindros son de 0.005 metros de radio y 0.025 metros de altura, y se encuentran ubicados a 0.925 metros sobre el suelo.\n"
   ]
  },
  {
   "cell_type": "markdown",
   "id": "6461ee72",
   "metadata": {},
   "source": [
    "---"
   ]
  },
  {
   "cell_type": "markdown",
   "id": "7680c7df-c4e4-4df5-b13a-5b51b4f90107",
   "metadata": {},
   "source": [
    "## 5. Código SDF completo\n",
    "\n",
    "```xml\n",
    "<?xml version=\"1.0\" ?>\n",
    "<sdf version=\"1.6\">\n",
    "  <model name=\"mesa_completa_con_cilindros\">\n",
    "    <static>true</static>\n",
    "\n",
    "    <!-- Mesa -->\n",
    "    <link name=\"table_link\">\n",
    "      <!-- Superficie de la mesa -->\n",
    "      <visual name=\"table_top\">\n",
    "        <geometry>\n",
    "          <box>\n",
    "            <size>1.5 0.8 0.1</size>\n",
    "          </box>\n",
    "        </geometry>\n",
    "        <material>\n",
    "          <ambient>1 1 1 1</ambient>\n",
    "          <diffuse>1 1 1 1</diffuse>\n",
    "        </material>\n",
    "        <pose>0 0 0.85 0 0 0</pose>\n",
    "      </visual>\n",
    "\n",
    "      <!-- Patas de la mesa -->\n",
    "      <visual name=\"leg1\">\n",
    "        <geometry>\n",
    "          <box>\n",
    "            <size>0.1 0.1 0.8</size>\n",
    "          </box>\n",
    "        </geometry>\n",
    "        <material>\n",
    "          <ambient>0.8 0.8 0.8 1</ambient>\n",
    "        </material>\n",
    "        <pose>-0.7 -0.35 0.4 0 0 0</pose>\n",
    "      </visual>\n",
    "\n",
    "      <visual name=\"leg2\">\n",
    "        <geometry>\n",
    "          <box>\n",
    "            <size>0.1 0.1 0.8</size>\n",
    "          </box>\n",
    "        </geometry>\n",
    "        <material>\n",
    "          <ambient>0.8 0.8 0.8 1</ambient>\n",
    "        </material>\n",
    "        <pose>0.7 -0.35 0.4 0 0 0</pose>\n",
    "      </visual>\n",
    "\n",
    "      <visual name=\"leg3\">\n",
    "        <geometry>\n",
    "          <box>\n",
    "            <size>0.1 0.1 0.8</size>\n",
    "          </box>\n",
    "        </geometry>\n",
    "        <material>\n",
    "          <ambient>0.8 0.8 0.8 1</ambient>\n",
    "        </material>\n",
    "        <pose>-0.7 0.35 0.4 0 0 0</pose>\n",
    "      </visual>\n",
    "\n",
    "      <visual name=\"leg4\">\n",
    "        <geometry>\n",
    "          <box>\n",
    "            <size>0.1 0.1 0.8</size>\n",
    "          </box>\n",
    "        </geometry>\n",
    "        <material>\n",
    "          <ambient>0.8 0.8 0.8 1</ambient>\n",
    "        </material>\n",
    "        <pose>0.7 0.35 0.4 0 0 0</pose>\n",
    "      </visual>\n",
    "\n",
    "      <!-- Columnas verticales -->\n",
    "      <visual name=\"columna1\">\n",
    "        <geometry>\n",
    "          <box>\n",
    "            <size>0.05 0.05 1.4</size>\n",
    "          </box>\n",
    "        </geometry>\n",
    "        <pose>-0.7 -0.35 1.5 0 0 0</pose>\n",
    "      </visual>\n",
    "\n",
    "      <visual name=\"columna2\">\n",
    "        <geometry>\n",
    "          <box>\n",
    "            <size>0.05 0.05 1.4</size>\n",
    "          </box>\n",
    "        </geometry>\n",
    "        <pose>0.7 -0.35 1.5 0 0 0</pose>\n",
    "      </visual>\n",
    "\n",
    "      <visual name=\"columna3\">\n",
    "        <geometry>\n",
    "          <box>\n",
    "            <size>0.05 0.05 1.4</size>\n",
    "          </box>\n",
    "        </geometry>\n",
    "        <pose>-0.7 0.35 1.5 0 0 0</pose>\n",
    "      </visual>\n",
    "\n",
    "      <visual name=\"columna4\">\n",
    "        <geometry>\n",
    "          <box>\n",
    "            <size>0.05 0.05 1.4</size>\n",
    "          </box>\n",
    "        </geometry>\n",
    "        <pose>0.7 0.35 1.5 0 0 0</pose>\n",
    "      </visual>\n",
    "\n",
    "      <!-- Cilindros -->\n",
    "      <visual name=\"cilindro1\">\n",
    "        <geometry>\n",
    "          <cylinder>\n",
    "            <radius>0.02</radius>\n",
    "            <length>0.1</length>\n",
    "          </cylinder>\n",
    "        </geometry>\n",
    "        <pose>-0.2 0 0.925 0 0 0</pose>\n",
    "      </visual>\n",
    "\n",
    "      <visual name=\"cilindro2\">\n",
    "        <geometry>\n",
    "          <cylinder>\n",
    "            <radius>0.02</radius>\n",
    "            <length>0.1</length>\n",
    "          </cylinder>\n",
    "        </geometry>\n",
    "        <pose>0.2 0 0.925 0 0 0</pose>\n",
    "      </visual>\n",
    "    </link>\n",
    "  </model>\n",
    "</sdf>"
   ]
  },
  {
   "cell_type": "markdown",
   "id": "03db8d1a",
   "metadata": {},
   "source": [
    "---"
   ]
  },
  {
   "cell_type": "markdown",
   "id": "acdeb24d",
   "metadata": {},
   "source": [
    "## 6. Resultados\n",
    "\n",
    "Se adjuntan capturas del escenario virtual realizado en Gazebo\n",
    "\n",
    "<div align=\"center\" style=\"display: flex; justify-content: center; gap: 0; margin: 0;\">\n",
    "    <div style=\"text-align: center;\" >\n",
    "        <img src=\"Images/Imagen2.jpg\" alt=\"Figura 2. Escenario virtual realizado en Gazebo\" width=\"80%\" height=\"auto\" />\n",
    "        <br>\n",
    "        <em></em>\n",
    "    </div>\n",
    "</div>\n"
   ]
  },
  {
   "cell_type": "markdown",
   "id": "12fb5f56",
   "metadata": {},
   "source": [
    "\n",
    "\n",
    "\n",
    "<div align=\"center\" style=\"display: flex; justify-content: center; gap: 0; margin: 0;\">\n",
    "    <div style=\"text-align: center;\" >\n",
    "        <img src=\"Images/Imagen3.jpg\" alt=\"Figura 3. Escenario Virtual realizado en Gazebi\" width=\"80%\" height=\"auto\" />\n",
    "        <br>\n",
    "        <em></em>\n",
    "    </div>\n",
    "</div>"
   ]
  },
  {
   "cell_type": "markdown",
   "id": "f130b440",
   "metadata": {},
   "source": [
    "---"
   ]
  },
  {
   "cell_type": "markdown",
   "id": "73ed509f",
   "metadata": {},
   "source": [
    "## 7. Conclusiones\n",
    "El modelo SDF de la mesa con cilindros proporciona una plataforma versátil y realista para realizar simulaciones de manipulación en entornos robóticos. A través de este modelo, es posible evaluar la capacidad de un robot para interactuar con objetos sobre una mesa, permitiendo así realizar pruebas en entornos controlados y de fácil modificación. Este modelo es un paso clave en la simulación y evaluación de capacidades de robots para tareas de manipulación."
   ]
  },
  {
   "cell_type": "markdown",
   "id": "f1e1229c",
   "metadata": {},
   "source": [
    "---"
   ]
  },
  {
   "cell_type": "markdown",
   "id": "fd833056-9065-4ceb-9ca5-8903bbab1684",
   "metadata": {},
   "source": [
    "##### Autores: \n",
    "**Autor** Gatica Lavin Luis Pedro [GitHub profile](https://github.com/luisgatica02) \n",
    "\n",
    "**Autor** López Jaramillo Sebastián [GitHub profile](https://github.com/Sebas5681)\n",
    "\n",
    "**Autor** Valenzo Batalla Alejandro [GitHub profile](https://github.com/ValenzoBatallaAlejandro)\n",
    "\n",
    "##### Revisor: M.I Enrique Peña Medina"
   ]
  },
  {
   "cell_type": "markdown",
   "id": "71fabba4-1aaa-450d-9b0e-464b9af2b81d",
   "metadata": {},
   "source": [
    "---"
   ]
  }
 ],
 "metadata": {
  "kernelspec": {
   "display_name": "Python 3 (ipykernel)",
   "language": "python",
   "name": "python3"
  },
  "language_info": {
   "codemirror_mode": {
    "name": "ipython",
    "version": 3
   },
   "file_extension": ".py",
   "mimetype": "text/x-python",
   "name": "python",
   "nbconvert_exporter": "python",
   "pygments_lexer": "ipython3",
   "version": "3.10.12"
  }
 },
 "nbformat": 4,
 "nbformat_minor": 5
}
