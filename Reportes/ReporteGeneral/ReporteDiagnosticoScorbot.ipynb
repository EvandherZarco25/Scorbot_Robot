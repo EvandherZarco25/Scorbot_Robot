{
 "cells": [
  {
   "cell_type": "markdown",
   "id": "49e192d0-bc46-4e46-a1b8-84d4f19947ec",
   "metadata": {},
   "source": [
    "# Reporte de Diagnóstico del Robot Scorbot"
   ]
  },
  {
   "cell_type": "markdown",
   "id": "fe0fe5ba-5625-43f2-8160-50c80f39d156",
   "metadata": {},
   "source": [
    "### CONTENIDO\n",
    "- [1 Introducción](#Introduccion)\n",
    "- [2 Acondicionamiento](#Acondicionamiento)\n",
    "- [3 Diagnóstico general](#Diagnostico)\n",
    "- [4 Conclusiones y Recomendaciones](#Conclusiones)\n",
    "- [5 Referencias](#Referencias)\n",
    "  "
   ]
  },
  {
   "cell_type": "markdown",
   "id": "956f3a62-78ac-47db-8f13-93559b18c89a",
   "metadata": {},
   "source": [
    "## 1 Introducción  <a name=\"Introduccion\"></a>\n",
    "**Objetivo**  \n",
    "Evaluar el estado actual y el funcionamiento del robot Scorbot considerando el trabajo previo realizado en las áreas de acondicionamiento del espacio, protección del robot y verificación de su funcionamiento."
   ]
  },
  {
   "cell_type": "markdown",
   "id": "d25ccc5a-530a-4f96-8865-e14ab064d047",
   "metadata": {},
   "source": [
    "---"
   ]
  },
  {
   "cell_type": "markdown",
   "id": "464839fa-d3ad-49e4-b9a0-20a241d7b29a",
   "metadata": {},
   "source": [
    "## 2 Acondicionamiento   <a name=\"Acondicionamiento\"></a>\n",
    "\n",
    "El acondicionamiento del espacio se realizó como una medida preliminar para eliminar posibles causas de mal funcionamiento o dificultades operativas del robot Scorbot. Al garantizar un entorno limpio y ordenado, se buscó optimizar las condiciones para realizar pruebas de funcionamiento de manera precisa y efectiva, minimizando la interferencia de factores externos como acumulación de polvo o desorganización."
   ]
  },
  {
   "cell_type": "markdown",
   "id": "cdf16c32-5c5d-4ab7-9d1c-766a39136b28",
   "metadata": {
    "jp-MarkdownHeadingCollapsed": true
   },
   "source": [
    "### 2.1 Acondicionamiento del Espacio\n",
    "**Estado previo:**\n",
    "Antes de la intervención, tanto el robot como el espacio de trabajo presentaban polvo, residuos y objetos desordenados, lo que comprometía la integridad y precisión del sistema.\n",
    "\n",
    "<div align=\"center\" style=\"display: flex; justify-content: center; gap: 0; margin: 0;\">\n",
    "    <div style=\"text-align: center;\">\n",
    "        <img src=\"Figuras_reporte/F1.jpeg\" alt=\"Figura 1. Estado inicial Scorbot \" width=\"80%\" height=\"auto\" />\n",
    "        <br>\n",
    "        <em>Figura 1. Estado inicial Scorbot   </em>\n",
    "    </div>\n",
    "    <div style=\"text-align: center;\">\n",
    "        <img src=\"Figuras_reporte/F2.jpeg\" alt=\"Figura 2. Estado inicial mesa de pruebas\" width=\"80%\" height=\"auto\" />\n",
    "        <br>\n",
    "        <em>Figura 2. Estado inicial mesa de pruebas </em>\n",
    "    </div>\n",
    "</div>\n",
    "\n",
    "‎   \n",
    "\n",
    "**Intervención realizada:**\n",
    "Se realizó una limpieza exhaustiva del robot y el espacio. Para el robot, se utilizaron productos no corrosivos para proteger las partes delicadas. Se enfocaron esfuerzos en áreas críticas como juntas, sensores y componentes de contacto. La mesa de trabajo fue despejada, eliminando contaminantes que interferían con la operación.\n",
    "\n",
    "<div align=\"center\" style=\"display: flex; justify-content: center; gap: 0; margin: 0;\">\n",
    "    <div style=\"text-align: center;\" >\n",
    "        <img src=\"Figuras_reporte/F3.jpeg\" alt=\"Figura 3. Estado post-limpieza Scorbot \" width=\"30%\" height=\"auto\" />\n",
    "        <br>\n",
    "        <em>Figura 3. Estado post-limpieza Scorbot   </em>\n",
    "    </div>\n",
    "    <div style=\"text-align: center;\" >\n",
    "        <img src=\"Figuras_reporte/F4.jpeg\" alt=\"Figura 4. Estado post-limpieza mesa de pruebas\" width=\"100%\" height=\"auto\" />\n",
    "        <br>\n",
    "        <em>Figura 4. Estado post-limpieza mesa de pruebas\" </em>\n",
    "    </div>\n",
    "</div>\n",
    "\n",
    "‎   \n",
    "\n",
    "**Conclusión:**\n",
    "La limpieza mejoró significativamente las condiciones del espacio y la operación del robot, prolongando su vida útil y permitiendo un entorno más seguro y eficiente."
   ]
  },
  {
   "cell_type": "markdown",
   "id": "a99ea0cd-3079-4dfa-a2ed-b3ebb77d4bac",
   "metadata": {},
   "source": [
    "### 2.2 Diseño del Espacio de Trabajo\n",
    "**Descripción del diseño:**\n",
    "Se diseñó un escritorio funcional con dimensiones de 80x50x75 cm, superficie plana con respaldo elevado y compartimentos específicos:\n",
    "- Espacio para la caja del controlador del Scorbot (23x33x13 cm).\n",
    "- Dos estantes abiertos para almacenamiento adicional.\n",
    "\n",
    "<div align=\"center\" style=\"display: flex; justify-content: center; gap: 0; margin: 0;\">\n",
    "    <div style=\"text-align: center;\" >\n",
    "        <img src=\"Figuras_reporte/F5.jpeg\" alt=\"Figura 5. Explosivo y lista de piezas del escritorio\" width=\"80%\" height=\"auto\" />\n",
    "        <br>\n",
    "        <em>Figura 6. Explosivo y lista de piezas del escritorio </em>\n",
    "    </div>\n",
    "</div>\n",
    "\n",
    "‎   \n",
    "  \n",
    "**Materiales y fabricación:**\n",
    "- Opciones: MDF, madera maciza o contrachapado, con acabados en barniz o laminado.\n",
    "- Método de ensamblaje: adhesivo resistente, tornillos y soportes en L para garantizar rigidez estructural.\n",
    "\n",
    "**Conclusión:**\n",
    "El diseño cumple con las necesidades ergonómicas y de organización, asegurando un espacio óptimo para operar y almacenar componentes del robot."
   ]
  },
  {
   "cell_type": "markdown",
   "id": "3a7cc144-c66f-4ebf-8792-e432e1d2d464",
   "metadata": {},
   "source": [
    "### 2.3 Funda de Protección para el Robot\n",
    "(Información pendiente)"
   ]
  },
  {
   "cell_type": "markdown",
   "id": "7c755ddf-e448-4ee7-8a35-c8505a24874e",
   "metadata": {},
   "source": [
    "---"
   ]
  },
  {
   "cell_type": "markdown",
   "id": "753a5c77-e32f-4fa2-847d-9e9f553d2681",
   "metadata": {},
   "source": [
    "<div id='Diagnostico'/>\n",
    "\n",
    "## 3. Diagnóstico General\n",
    "Tras realizar el acondicionamiento del espacio, la limpieza del robot y las pruebas de funcionamiento, se identificaron aspectos clave que determinan el estado operativo actual del Scorbot:\n",
    "\n",
    "**Fortalezas:**\n",
    "1. Espacio acondicionado: El entorno de trabajo del Scorbot ha sido optimizado para garantizar condiciones limpias y organizadas, minimizando riesgos de interferencias externas durante su operación.\n",
    "2. Diseño funcional del área: El diseño del escritorio proporciona un espacio ergonómico para operar el robot y almacenar sus componentes, mejorando la accesibilidad y la seguridad.\n",
    "   \n",
    "**Debilidades:**\n",
    "1. Problemas en el eje 5: Este eje presenta fallos significativos en el movimiento de la muñeca debido a una instalación incorrecta de una cámara que afecta al sensor de posición.\n",
    "2. Acumulación de polvo y óxido: A pesar de la limpieza realizada, la acumulación de contaminantes en articulaciones y sensores ha causado errores en el proceso de inicialización (\"Home\") y afectado la precisión general del robot.\n",
    "3. Retroalimentación limitada: El sistema de encoders basado en pulsos muestra limitaciones en la precisión del control de las articulaciones, especialmente bajo condiciones de suciedad o mal mantenimiento.\n",
    "\n",
    "**Implicaciones generales:**\n",
    "El estado actual del Scorbot refleja tanto avances en la mejora de su entorno como problemas persistentes que afectan su operación. Las fallas técnicas detectadas deben abordarse de manera prioritaria para garantizar que el robot alcance su potencial operativo completo. Implementar las recomendaciones de mantenimiento será esencial para prolongar su vida útil y mejorar su rendimiento."
   ]
  },
  {
   "cell_type": "markdown",
   "id": "42cbdf3a-2862-4f7b-a090-5d8fd75af4af",
   "metadata": {},
   "source": [
    "---"
   ]
  },
  {
   "cell_type": "markdown",
   "id": "fc8d501e-483d-44d3-8965-84ac61215019",
   "metadata": {},
   "source": [
    "## 4. Conclusiones y Recomendaciones <a name=\"Conclusiones\"></a>\n",
    "    \n",
    "**Conclusiones:**\n",
    "1. El acondicionamiento y limpieza realizados han mejorado significativamente el entorno de trabajo y la operación del robot.\n",
    "2. El diseño del espacio de trabajo proporciona una solución funcional y duradera para organizar y proteger los componentes del Scorbot.\n",
    "3. Persisten problemas técnicos en el robot que requieren atención inmediata, particularmente en el eje 5 y los sensores de posición.\n",
    "\n",
    "**Recomendaciones:**\n",
    "1. Mantenimiento periódico: Realizar limpiezas regulares con aire comprimido y productos no corrosivos.\n",
    "2. Corrección técnica: Revisar y ajustar la instalación de componentes en el eje 5, incluyendo la cámara y sensores.\n",
    "3. Protección adicional: Implementar la funda para evitar acumulación de polvo en el robot y sus componentes.\n",
    "4. Capacitación y análisis comparativo: Entrenar al personal en procedimientos de inicialización (\"Home\") y comparar el Scorbot con modelos similares en buen estado."
   ]
  },
  {
   "cell_type": "markdown",
   "id": "778ec851-e85a-4d1e-a166-7ec8e3c15121",
   "metadata": {},
   "source": [
    "---"
   ]
  },
  {
   "cell_type": "markdown",
   "id": "17ea50c2-b6dc-4345-9375-b8a10251f283",
   "metadata": {},
   "source": [
    "## 5. Referencias   <a name=\"Referencias\"></a>\n",
    "\n",
    "1. J. Chávez Escobedo y S. Partida Sánchez, \"Reporte - Acondicionamiento del Espacio del Robot Scorbot\" 2024.\n",
    "2. J. A. López Poblano y C. I. Guzmán Flores, \"Reporte - Funcionamiento del Robot Scorbot\" 2024.\n",
    "3. J. Vega Barenas, \"Reporte - Funda de Protección para el Robot Scorbot\" 2024.\n",
    "4. M. I. E. Peña Medina, \"Reporte 1 proyecto\" YouTube, 2024. [En línea]. Disponible en: https://youtu.be/CqxV8sULxJQ?si=ncEIffCSH9VGWhFR. [Accedido: 18 de noviembre de 2024]."
   ]
  },
  {
   "cell_type": "markdown",
   "id": "fd833056-9065-4ceb-9ca5-8903bbab1684",
   "metadata": {},
   "source": [
    "##### Autor: Luis Daniel Rosas Cazares\n",
    "##### Revisor: M.I Enrique Peña Medina"
   ]
  },
  {
   "cell_type": "markdown",
   "id": "71fabba4-1aaa-450d-9b0e-464b9af2b81d",
   "metadata": {},
   "source": [
    "---"
   ]
  }
 ],
 "metadata": {
  "kernelspec": {
   "display_name": "Python 3 (ipykernel)",
   "language": "python",
   "name": "python3"
  },
  "language_info": {
   "codemirror_mode": {
    "name": "ipython",
    "version": 3
   },
   "file_extension": ".py",
   "mimetype": "text/x-python",
   "name": "python",
   "nbconvert_exporter": "python",
   "pygments_lexer": "ipython3",
   "version": "3.10.12"
  }
 },
 "nbformat": 4,
 "nbformat_minor": 5
}
