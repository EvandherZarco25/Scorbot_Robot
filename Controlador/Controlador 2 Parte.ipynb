{
 "cells": [
  {
   "cell_type": "markdown",
   "id": "b16d8228",
   "metadata": {},
   "source": [
    "| Código | Description |\n",
    "| ------:| ----------- |\n",
    "| **Robotica-2025-I**  | Parcial 2  |"
   ]
  },
  {
   "cell_type": "markdown",
   "id": "49e192d0-bc46-4e46-a1b8-84d4f19947ec",
   "metadata": {},
   "source": [
    "# - Controlador/src/examen_description/launch/scara_display.launch.xml"
   ]
  },
  {
   "cell_type": "markdown",
   "id": "cc4b50c2-6fee-42ab-8f4c-57ae8c797e31",
   "metadata": {},
   "source": [
    "---"
   ]
  },
  {
   "cell_type": "markdown",
   "id": "d6fa089a",
   "metadata": {},
   "source": [
    "```xml\n",
    "<launch>\n",
    "  <let name=\"urdf_path\"\n",
    "       value=\"$(find-pkg-share examen_description)/urdf/scara_simple_controller.xacro\" />\n",
    "  <let name=\"rviz_config\"\n",
    "       value=\"$(find-pkg-share examen_description)/rviz/scara_rviz.rviz\" />\n",
    "  \n",
    "  <!-- Define dos variables: -->\n",
    "  <!-- urdf_path: La ruta al archivo URDF/Xacro (scara_simple_controller.xacro) -->\n",
    "  <!-- rviz_config: La ruta al archivo de configuración de RViz (scara_rviz.rviz), -->\n",
    "  <!-- que se utilizará para visualizar el robot en RViz. -->\n",
    "\n",
    "  <node pkg=\"robot_state_publisher\" exec=\"robot_state_publisher\">\n",
    "    <param name=\"robot_description\"\n",
    "           value=\"$(command 'xacro $(var urdf_path)')\" />\n",
    "  </node>\n",
    "</launch>\n",
    "```\n"
   ]
  },
  {
   "cell_type": "markdown",
   "id": "3bbc1602",
   "metadata": {},
   "source": [
    "● robot_state_publisher: Publica el estado de las articulaciones del robot basado en la\n",
    "descripción proporcionada.\n",
    "\n",
    "● robot_description: Se configura utilizando el archivo Xacro definido en urdf_path. El\n",
    "comando xacro se utiliza para convertir el archivo .xacro a formato URDF en tiempo\n",
    "de ejecución."
   ]
  },
  {
   "cell_type": "markdown",
   "id": "c0fec494",
   "metadata": {},
   "source": [
    "```xml\n",
    "<node pkg=\"joint_state_publisher_gui\" exec=\"joint_state_publisher_gui\" />\n",
    "```\n"
   ]
  },
  {
   "cell_type": "markdown",
   "id": "ea7f59d0",
   "metadata": {},
   "source": [
    "● joint_state_publisher_gui: Abre una interfaz gráfica que permite controlar\n",
    "manualmente las posiciones de las articulaciones del robot. Esto es útil para probar\n",
    "y simular el movimiento del robot SCARA."
   ]
  },
  {
   "cell_type": "markdown",
   "id": "b050cb6f",
   "metadata": {},
   "source": [
    "```xml\n",
    "<node pkg=\"rviz2\" exec=\"rviz2\" output=\"screen\"\n",
    "      args=\"-d $(var rviz_config)\" />\n",
    "```\n"
   ]
  },
  {
   "cell_type": "markdown",
   "id": "e12e192a",
   "metadata": {},
   "source": [
    "● rviz2: Inicia RViz (la herramienta de visualización de ROS 2) con la configuración\n",
    "especificada en rviz_config. Esto permite visualizar el robot y su estado en un\n",
    "entorno 3D"
   ]
  },
  {
   "cell_type": "markdown",
   "id": "09135120",
   "metadata": {},
   "source": [
    "```xml\n",
    "</launch>\n",
    "```\n"
   ]
  },
  {
   "cell_type": "markdown",
   "id": "956f3a62-78ac-47db-8f13-93559b18c89a",
   "metadata": {},
   "source": [
    "### Resumen del funcionamiento <a name=\"Resumen del funcionamiento\"></a>\n",
    "\n",
    "Este archivo de lanzamiento realiza los siguientes pasos al ejecutarse:\n",
    "1. Carga la descripción del robot SCARA desde un archivo Xacro y la convierte a\n",
    "URDF.\n",
    "\n",
    "2. Publica el estado del robot utilizando el nodo robot_state_publisher.\n",
    "\n",
    "3. Inicia una interfaz gráfica (joint_state_publisher_gui) para controlar las\n",
    "articulaciones del robot manualmente.\n",
    "\n",
    "4. Inicia RViz con una configuración predefinida para visualizar el modelo del robot y\n",
    "su movimiento."
   ]
  },
  {
   "cell_type": "markdown",
   "id": "d25ccc5a-530a-4f96-8865-e14ab064d047",
   "metadata": {},
   "source": [
    "---"
   ]
  },
  {
   "cell_type": "markdown",
   "id": "464839fa-d3ad-49e4-b9a0-20a241d7b29a",
   "metadata": {},
   "source": [
    "### Controlador/src/examen_description/urdf/position_controller.xacro   <a name=\"Controlador/src/examen_description/urdf/position_controller.xacro\"></a>\n"
   ]
  },
  {
   "cell_type": "markdown",
   "id": "2e20423c",
   "metadata": {},
   "source": [
    "Este archivo es un archivo URDF (Unified Robot Description Format) que define la\n",
    "configuración y control de un robot llamado &quot;Propuesta2&quot; en un entorno de simulación de\n",
    "Gazebo utilizando ROS 2. A continuación, te explico en detalle qué hace cada sección del\n",
    "código:"
   ]
  },
  {
   "cell_type": "markdown",
   "id": "2ab6ba1a",
   "metadata": {},
   "source": [
    "```xml\n",
    "<?xml version=\"1.0\" encoding=\"utf-8\"?>\n",
    "<!--Aqui comienza el robot-->\n",
    "<robot name=\"Propuesta2\" xmlns:xacro=\"http://ros.org/wiki/xacro\">\n",
    "```\n"
   ]
  },
  {
   "cell_type": "markdown",
   "id": "fa884e25",
   "metadata": {},
   "source": [
    "● Define el archivo como un documento XML.\n",
    "\n",
    "● Declara que este archivo es un modelo de robot con el nombre &quot;Propuesta2&quot;.\n",
    "\n",
    "● Utiliza el namespace xacro, lo que permite usar macros para definir componentes\n",
    "de robots. Sin embargo, en este archivo no se están usando macros explícitamente."
   ]
  },
  {
   "cell_type": "markdown",
   "id": "2855737a",
   "metadata": {},
   "source": [
    "```xml\n",
    "<ros2_control name=\"GazeboSystem\" type=\"system\">\n",
    "  <hardware>\n",
    "    <plugin>gazebo_ros2_control/GazeboSystem</plugin>\n",
    "  </hardware>\n",
    "</ros2_control>\n",
    "```\n"
   ]
  },
  {
   "cell_type": "markdown",
   "id": "2acd1bc7-f4b0-4e27-ae28-c82ce4ea1aa0",
   "metadata": {},
   "source": [
    "### Sección de control (ros2_control):"
   ]
  },
  {
   "cell_type": "markdown",
   "id": "9c5176da",
   "metadata": {},
   "source": [
    "● Define un sistema de control para el robot usando el plugin de\n",
    "gazebo_ros2_control.\n",
    "\n",
    "● Especifica que el robot usará un sistema de control basado en Gazebo para\n",
    "simular el hardware."
   ]
  },
  {
   "cell_type": "markdown",
   "id": "0665da0e",
   "metadata": {},
   "source": [
    "```xml\n",
    "<joint name=\"link_1_joint\">\n",
    "  <command_interface name=\"position\"/>\n",
    "  <state_interface name=\"position\"/>\n",
    "  <state_interface name=\"velocity\"/>\n",
    "  <state_interface name=\"effort\"/>\n",
    "</joint>\n",
    "```\n"
   ]
  },
  {
   "cell_type": "markdown",
   "id": "cdf16c32-5c5d-4ab7-9d1c-766a39136b28",
   "metadata": {
    "jp-MarkdownHeadingCollapsed": true
   },
   "source": [
    "**Definición de las articulaciones (joints):**\n",
    "● Se definen cuatro articulaciones: link_1_joint, link_2_joint, link_3_joint y\n",
    "link_4_joint.\n",
    "\n",
    "● Cada articulación tiene interfaces de control y estado:\n",
    "○ command_interface name=&quot;position&quot;: Permite enviar comandos de posición\n",
    "a la articulación.\n",
    "\n",
    "○ state_interface name=&quot;position&quot;: Reporta el estado actual de la posición de\n",
    "la articulación.\n",
    "○ state_interface name=&quot;velocity&quot;: Reporta la velocidad de la articulación.\n",
    "○ state_interface name=&quot;effort&quot;: Reporta el esfuerzo aplicado en la articulación\n",
    "(por ejemplo, torque o fuerza).\n",
    "\n",
    "Esto permite que las articulaciones puedan controlarse en términos de posición, así como\n",
    "monitorear su posición, velocidad y esfuerzo."
   ]
  },
  {
   "cell_type": "markdown",
   "id": "61bf1ff1",
   "metadata": {},
   "source": [
    "```xml\n",
    "<joint name=\"link_2_joint\">\n",
    "  <command_interface name=\"position\"/>\n",
    "  <state_interface name=\"position\"/>\n",
    "  <state_interface name=\"velocity\"/>\n",
    "  <state_interface name=\"effort\"/>\n",
    "</joint>\n",
    "\n",
    "<joint name=\"link_3_joint\">\n",
    "  <command_interface name=\"position\"/>\n",
    "  <state_interface name=\"position\"/>\n",
    "  <state_interface name=\"velocity\"/>\n",
    "  <state_interface name=\"effort\"/>\n",
    "</joint>\n",
    "\n",
    "<joint name=\"link_4_joint\">\n",
    "  <command_interface name=\"position\"/>\n",
    "  <state_interface name=\"position\"/>\n",
    "  <state_interface name=\"velocity\"/>\n",
    "  <state_interface name=\"effort\"/>\n",
    "</joint>\n",
    "\n",
    "</ros2_control>\n",
    "\n",
    "<!--Plugin de control-->\n",
    "<gazebo>\n",
    "  <plugin filename=\"libgazebo_ros2_control.so\" name=\"gazebo_ros2_control\">\n",
    "    <parameters>$(find ${package_name})/config/Propuesta2_position_controller.yaml</parameters>\n",
    "  </plugin>\n",
    "</gazebo>\n",
    "```\n"
   ]
  },
  {
   "cell_type": "markdown",
   "id": "1dde67f0-b75a-4a12-9af4-0bc0b9df2548",
   "metadata": {},
   "source": [
    "**Sección de configuración del plugin de Gazebo:**\n",
    "\n"
   ]
  },
  {
   "cell_type": "markdown",
   "id": "13a1fd75",
   "metadata": {},
   "source": [
    "● Aquí se define un plugin de Gazebo que permitirá a ROS 2 controlar el robot en el\n",
    "simulador Gazebo.\n",
    "\n",
    "● Utiliza el plugin libgazebo_ros2_control.so, que integra el sistema de control ROS 2\n",
    "con Gazebo.\n",
    "\n",
    "● Carga un archivo de configuración YAML (Propuesta2_position_controller.yaml) que\n",
    "especifica los controladores para las articulaciones."
   ]
  },
  {
   "cell_type": "markdown",
   "id": "325eff03",
   "metadata": {},
   "source": [
    "```xml\n",
    "</robot>\n"
   ]
  },
  {
   "cell_type": "markdown",
   "id": "25d235b9",
   "metadata": {},
   "source": [
    "## Controlador/src/examen_description/urdf/scara_basic_position_controller.xacro"
   ]
  },
  {
   "cell_type": "markdown",
   "id": "28c97b87",
   "metadata": {},
   "source": [
    "Se declara un XML y establece que el archivo es un Xacro (XML Macro) usado en\n",
    "ROS para simplificar la creación de archivos URDF (Unified Robot Description\n",
    "Format)."
   ]
  },
  {
   "cell_type": "markdown",
   "id": "8970f559",
   "metadata": {},
   "source": [
    "```xml\n",
    "<?xml version=\"1.0\" encoding=\"utf-8\"?>\n",
    "<robot name=\"robot_scara\" xmlns:xacro=\"http://ros.org/wiki/xacro\">\n",
    "```\n"
   ]
  },
  {
   "cell_type": "markdown",
   "id": "96b239d2",
   "metadata": {},
   "source": [
    "El primer bloque &lt;gazebo&gt; define un plugin para publicar el estado de las juntas\n",
    "(joints) en el simulador Gazebo."
   ]
  },
  {
   "cell_type": "markdown",
   "id": "01885823",
   "metadata": {},
   "source": [
    "```xml\n",
    "<gazebo>\n",
    "  <!-- Definición del plugin para la publicación del estado de las juntas en ROS -->\n",
    "  <plugin name=\"joint_state_publisher_controller\" filename=\"libgazebo_ros_joint_state_publisher.so\">\n",
    "    <!-- Nombre del plugin y el archivo de la biblioteca compartida (SO) que se usará -->\n",
    "    \n",
    "    <!-- Tasa de actualización en Hz para publicar los estados de las juntas -->\n",
    "    <update_rate>10</update_rate>\n",
    "\n",
    "    <!-- Nombres de las juntas cuyas posiciones serán publicadas -->\n",
    "    <joint_name>link_1_joint</joint_name>\n",
    "    <joint_name>link_2_joint</joint_name>\n",
    "    <joint_name>link_3_joint</joint_name>\n",
    "    <!-- Se publicará el estado de las tres juntas especificadas -->\n",
    "  </plugin>\n",
    "</gazebo>\n",
    "```\n"
   ]
  },
  {
   "cell_type": "markdown",
   "id": "3be08235",
   "metadata": {},
   "source": [
    "El segundo bloque &lt;gazebo&gt; define otro plugin para controlar la trayectoria de las\n",
    "juntas del robot."
   ]
  },
  {
   "cell_type": "markdown",
   "id": "54224457",
   "metadata": {},
   "source": [
    "```xml\n",
    "<gazebo>\n",
    "  <!-- Definición del plugin para el control de trayectorias en las articulaciones -->\n",
    "  <plugin name=\"joint_pose_trajectory_controller\" filename=\"libgazebo_ros_joint_pose_trajectory.so\">\n",
    "    \n",
    "    <!-- Nombre del plugin y el archivo de la biblioteca compartida (SO) que se usará -->\n",
    "    \n",
    "    <!-- Tasa de actualización en Hz para controlar la trayectoria de las juntas -->\n",
    "    <update_rate>2</update_rate>\n",
    "  </plugin>\n",
    "</gazebo>\n",
    "</robot>\n",
    "```\n"
   ]
  },
  {
   "cell_type": "markdown",
   "id": "a99ea0cd-3079-4dfa-a2ed-b3ebb77d4bac",
   "metadata": {},
   "source": [
    "## Controlador/src/examen_description/urdf/scara_gz_properties.xacro"
   ]
  },
  {
   "cell_type": "markdown",
   "id": "f1395b91-c9d5-4ad3-bc2f-00c7b019312e",
   "metadata": {},
   "source": [
    "Define que este archivo está escrito en formato XML versión 1.0 y utiliza la\n",
    "codificación UTF-8 para los caracteres."
   ]
  },
  {
   "cell_type": "markdown",
   "id": "dd28fa20",
   "metadata": {},
   "source": [
    "```xml\n",
    "<?xml version=\"1.0\" encoding=\"utf-8\"?>\n",
    "<robot name=\"robot_scara\" xmlns:xacro=\"http://ros.org/wiki/xacro\">\n",
    "```\n"
   ]
  },
  {
   "cell_type": "markdown",
   "id": "c08b0e40",
   "metadata": {},
   "source": [
    "A continuación, cada bloque &lt;gazebo&gt; asigna un material específico para cada\n",
    "enlace (link) del robot en la simulación de Gazebo."
   ]
  },
  {
   "cell_type": "markdown",
   "id": "dec2001a",
   "metadata": {},
   "source": [
    "```xml\n",
    "<gazebo reference=\"base_link\">\n",
    "  <material>Gazebo/Grey</material>\n",
    "</gazebo>\n",
    "<gazebo reference=\"link_1\">\n",
    "  <material>Gazebo/Red</material>\n",
    "</gazebo>\n",
    "<gazebo reference=\"link_2\">\n",
    "  <material>Gazebo/Blue</material>\n",
    "</gazebo>\n",
    "<gazebo reference=\"link_3\">\n",
    "  <material>Gazebo/Green</material>\n",
    "</gazebo>\n",
    "</robot>\n",
    "```\n"
   ]
  },
  {
   "cell_type": "markdown",
   "id": "586c50d3",
   "metadata": {},
   "source": [
    "## Controlador/src/examen_description/urdf/scara_position_controller.xacro"
   ]
  },
  {
   "cell_type": "markdown",
   "id": "152c5f0a",
   "metadata": {},
   "source": [
    "-Controlador/src/examen_description/urdf/trajectory_controller.xacro "
   ]
  },
  {
   "cell_type": "markdown",
   "id": "91da011e",
   "metadata": {},
   "source": [
    "1. Definición del archivo y el robot"
   ]
  },
  {
   "cell_type": "markdown",
   "id": "a9f00615",
   "metadata": {},
   "source": [
    "# Controlador /src/examen_description/urdf/scara_position_controller.xacro\n",
    "\n",
    "## 1. Definición del archivo y el robot\n",
    "\n",
    "```xml\n",
    "<?xml version=\"1.0\" encoding=\"utf-8\"?> \n",
    "<robot name=\"Propuesta\" xmlns:xacro=\"http://ros.org/wiki/xacro\">\n"
   ]
  },
  {
   "cell_type": "markdown",
   "id": "ecc90135",
   "metadata": {},
   "source": [
    "\n",
    "- Se declara el encabezado XML y se inicia la definición del robot con el nombre \"Propuesta\". -->\n",
    "- El atributo xmlns:xacro indica que el archivo utiliza Xacro, permitiendo el uso de macros para facilitar la generación de descripciones robóticas. -->\n",
    "\n",
    "\n"
   ]
  },
  {
   "cell_type": "markdown",
   "id": "6bb6ecd4",
   "metadata": {},
   "source": [
    "## 2. Configuración de ros2_control"
   ]
  },
  {
   "cell_type": "markdown",
   "id": "0ea359f5",
   "metadata": {},
   "source": [
    "<ros2_control name=\"GazeboSystem\" type=\"system\">\n",
    "    <hardware>\n",
    "        <plugin>gazebo_ros2_control/GazeboSystem</plugin>\n",
    "    </hardware>\n",
    "</ros2_control>\n"
   ]
  },
  {
   "cell_type": "markdown",
   "id": "8f196c92",
   "metadata": {},
   "source": [
    "-La sección <ros2_control> define un sistema de control que usa el plugin gazebo_ros2_control, lo que indica que el robot está siendo controlado dentro del entorno de simulación Gazebo.\n",
    "\n",
    "-GazeboSystem es el tipo de hardware utilizado, y gazebo_ros2_control/GazeboSystem es el plugin que permite la integración del sistema de control con Gazebo."
   ]
  },
  {
   "cell_type": "markdown",
   "id": "7a39ea1e",
   "metadata": {},
   "source": [
    "## 3. Configuración de las juntas (joints)"
   ]
  },
  {
   "cell_type": "markdown",
   "id": "612e5528",
   "metadata": {},
   "source": [
    "```xml\n",
    "<joint name=\"link_1_joint\">\n",
    "    <command_interface name=\"position\"/>\n",
    "    <state_interface name=\"position\"/>\n",
    "    <state_interface name=\"velocity\"/>\n",
    "    <state_interface name=\"effort\"/>\n",
    "</joint>\n",
    "<joint name=\"link_2_joint\">\n",
    "    <command_interface name=\"position\"/>\n",
    "    <state_interface name=\"position\"/>\n",
    "    <state_interface name=\"velocity\"/>\n",
    "    <state_interface name=\"effort\"/>\n",
    "</joint>\n",
    "<joint name=\"link_3_joint\">\n",
    "    <command_interface name=\"position\"/>\n",
    "    <state_interface name=\"position\"/>\n",
    "    <state_interface name=\"velocity\"/>\n",
    "    <state_interface name=\"effort\"/>\n",
    "</joint>\n",
    "<joint name=\"link_4_joint\">\n",
    "    <command_interface name=\"position\"/>\n",
    "    <state_interface name=\"position\"/>\n",
    "    <state_interface name=\"velocity\"/>\n",
    "    <state_interface name=\"effort\"/>\n",
    "</joint>\n"
   ]
  },
  {
   "cell_type": "markdown",
   "id": "4a747cb7",
   "metadata": {},
   "source": [
    "- Se definen cuatro juntas: `link_1_joint`, `link_2_joint`, `link_3_joint`, y `link_4_joint`.\n",
    "\n",
    "- Cada junta tiene interfaces para:\n",
    "\n",
    "  - `command_interface`: Permite controlar la posición de la junta.\n",
    "  \n",
    "  - `state_interface`: Proveen información sobre el estado de la junta, incluyendo:\n",
    "  \n",
    "    - `position`: posición\n",
    "    - `velocity`: velocidad\n",
    "    - `effort`: esfuerzo/torque\n"
   ]
  },
  {
   "cell_type": "markdown",
   "id": "b7a58f68",
   "metadata": {},
   "source": [
    "## 4. Configuración del plugin para Gazebo"
   ]
  },
  {
   "cell_type": "markdown",
   "id": "57a404ac",
   "metadata": {},
   "source": [
    "```xml\n",
    "<gazebo>\n",
    "    <plugin filename=\"libgazebo_ros2_control.so\" name=\"gazebo_ros2_control\">\n",
    "        <robot_param>robot_description</robot_param>\n",
    "        <robot_param_node>robot_state_publisher</robot_param_node>\n",
    "        <parameters>$(find ${package_name})/config/Propuesta2_trajectory_controller.yaml</parameters>\n",
    "    </plugin>\n",
    "</gazebo>\n"
   ]
  },
  {
   "cell_type": "markdown",
   "id": "bb693cd1",
   "metadata": {},
   "source": [
    "La sección `<gazebo>` configura el plugin para la simulación en Gazebo.  \n",
    "El plugin `libgazebo_ros2_control.so` permite que Gazebo controle el robot utilizando `ros2_control`.\n",
    "\n",
    "**Parámetros:**\n",
    "\n",
    "- `robot_param`: El nombre del parámetro que contiene la descripción del robot (generalmente definido en un archivo URDF o Xacro).\n",
    "- `robot_param_node`: El nodo que publica el estado del robot (`robot_state_publisher`).\n",
    "- `parameters`: Ruta a un archivo de configuración YAML (`Propuesta2_trajectory_controller.yaml`) que contiene parámetros adicionales para el controlador de trayectoria.\n"
   ]
  },
  {
   "cell_type": "markdown",
   "id": "1e15c310",
   "metadata": {},
   "source": [
    "# Controlador /src/examen_description/package.xml"
   ]
  },
  {
   "cell_type": "markdown",
   "id": "74c2c19d",
   "metadata": {},
   "source": [
    "```xml\n",
    "<?xml version=\"1.0\"?> \n",
    "<?xml-model href=\"http://download.ros.org/schema/package_format3.xsd\" schematypens=\"http://www.w3.org/2001/XMLSchema\"?> \n",
    "<package format=\"3\">\n"
   ]
  },
  {
   "cell_type": "markdown",
   "id": "bc622d56",
   "metadata": {},
   "source": [
    "Se declara que el archivo es XML y sigue el esquema de paquetes ROS2 en formato 3.\n"
   ]
  },
  {
   "cell_type": "markdown",
   "id": "f82838d5",
   "metadata": {},
   "source": [
    "## 1. Información básica del paquete"
   ]
  },
  {
   "cell_type": "markdown",
   "id": "8df72adf",
   "metadata": {},
   "source": [
    "```xml\n",
    "<name>examen_description</name>\n",
    "<version>0.0.0</version>\n",
    "<description>TODO: Package description</description>\n",
    "<maintainer email=\"erik.pena@ingenieria.unam.edu\">robousr</maintainer>\n",
    "<license>TODO: License declaration</license>\n"
   ]
  },
  {
   "cell_type": "markdown",
   "id": "ac257000",
   "metadata": {},
   "source": [
    "- `<name>`: El nombre del paquete es `examen_description`.\n",
    "- `<version>`: La versión del paquete es `0.0.0`.\n",
    "- `<description>`: Descripción del paquete (actualmente como \"TODO\").\n",
    "- `<maintainer>`: Responsable del paquete (correo: erik.pena@ingenieria.unam.edu).\n",
    "- `<license>`: Licencia del paquete (a completar).\n"
   ]
  },
  {
   "cell_type": "markdown",
   "id": "afedcdab",
   "metadata": {},
   "source": [
    "## 2. Dependencias de herramientas de construcción (buildtool)\n",
    "\n"
   ]
  },
  {
   "cell_type": "markdown",
   "id": "23f2ca12",
   "metadata": {},
   "source": [
    "```xml\n",
    "<buildtool_depend>ament_cmake</buildtool_depend>\n"
   ]
  },
  {
   "cell_type": "markdown",
   "id": "7c349762",
   "metadata": {},
   "source": [
    "- `ament_cmake`: Herramienta de construcción utilizada en ROS2.\n"
   ]
  },
  {
   "cell_type": "markdown",
   "id": "78c67d1e",
   "metadata": {},
   "source": [
    "## 3. Dependencias de construcción (build_depend)"
   ]
  },
  {
   "cell_type": "markdown",
   "id": "e5dc0ab0",
   "metadata": {},
   "source": [
    "```xml\n",
    "<build_depend>control_msgs</build_depend>\n",
    "<build_depend>geometry_msgs</build_depend>\n",
    "<build_depend>rclcpp</build_depend>\n",
    "<build_depend>rclcpp_action</build_depend>\n",
    "<build_depend>std_msgs</build_depend>\n"
   ]
  },
  {
   "cell_type": "markdown",
   "id": "d5061a94",
   "metadata": {},
   "source": [
    "**Dependencias necesarias para compilar el paquete:**\n",
    "\n",
    "- `control_msgs`: Mensajes para el control de robots.\n",
    "- `geometry_msgs`: Mensajes para información geométrica.\n",
    "- `rclcpp`: Biblioteca de C++ para nodos en ROS2.\n",
    "- `rclcpp_action`: Maneja acciones en ROS2.\n",
    "- `std_msgs`: Mensajes estándar como `String`, `Int32`, etc.\n"
   ]
  },
  {
   "cell_type": "markdown",
   "id": "688f7b5a",
   "metadata": {},
   "source": [
    "## 4. Dependencias de ejecución (exec_depend)"
   ]
  },
  {
   "cell_type": "markdown",
   "id": "6a5ba044",
   "metadata": {},
   "source": [
    "```xml\n",
    "<exec_depend>rclcpp</exec_depend>\n",
    "<exec_depend>joint_state_publisher</exec_depend>\n",
    "<exec_depend>joint_state_publisher_gui</exec_depend>\n",
    "<exec_depend>robot_state_publisher</exec_depend>\n",
    "<exec_depend>xacro</exec_depend>\n"
   ]
  },
  {
   "cell_type": "markdown",
   "id": "e4b85e15",
   "metadata": {},
   "source": [
    "**Dependencias de tiempo de ejecución:**\n",
    "\n",
    "- `joint_state_publisher`: Publica el estado de las juntas.\n",
    "- `joint_state_publisher_gui`: Interfaz gráfica para ajustar el estado de las juntas.\n",
    "- `robot_state_publisher`: Publica transformaciones entre enlaces del robot.\n",
    "- `xacro`: Procesa archivos Xacro para generar URDF.\n"
   ]
  },
  {
   "cell_type": "markdown",
   "id": "f6d01c1a",
   "metadata": {},
   "source": [
    "## 5. Dependencias adicionales para Gazebo y controladores"
   ]
  },
  {
   "cell_type": "markdown",
   "id": "e52da3c0",
   "metadata": {},
   "source": [
    "```xml\n",
    "<exec_depend>gazebo_ros2_control</exec_depend>\n",
    "<exec_depend>gazebo_ros</exec_depend>\n",
    "<exec_depend>hardware_interface</exec_depend>\n",
    "<exec_depend>joint_trajectory_controller</exec_depend>\n",
    "<exec_depend>launch</exec_depend>\n",
    "<exec_depend>launch_ros</exec_depend>\n",
    "<exec_depend>ros2_control</exec_depend>\n",
    "<exec_depend>ros2_controllers</exec_depend>\n",
    "<exec_depend>velocity_controllers</exec_depend>\n",
    "<exec_depend>ros2launch</exec_depend>\n"
   ]
  },
  {
   "cell_type": "markdown",
   "id": "f8d0e2ed",
   "metadata": {},
   "source": [
    "**Dependencias para integración con Gazebo y controladores ROS2:**\n",
    "\n",
    "- `gazebo_ros2_control`, `gazebo_ros`: Integración con Gazebo.\n",
    "- `hardware_interface`: Proporciona interfaces de hardware.\n",
    "- `joint_trajectory_controller`: Controla trayectorias en las juntas.\n",
    "- `velocity_controllers`: Controla la velocidad de las juntas.\n"
   ]
  },
  {
   "cell_type": "markdown",
   "id": "e182625d",
   "metadata": {},
   "source": [
    "## 6. Dependencias para pruebas (test_depend)"
   ]
  },
  {
   "cell_type": "markdown",
   "id": "aad51209",
   "metadata": {},
   "source": [
    "```xml\n",
    "<test_depend>ament_lint_auto</test_depend>\n",
    "<test_depend>ament_lint_common</test_depend>\n"
   ]
  },
  {
   "cell_type": "markdown",
   "id": "632e94f1",
   "metadata": {},
   "source": [
    "**Herramientas de análisis estático de código en ROS2:**\n",
    "\n",
    "- `ament_lint`: Herramienta de linting para verificar el estilo de código y posibles errores.\n",
    "- `cppcheck`: Herramienta de análisis estático de C++ para encontrar errores en el código.\n",
    "- `clang-tidy`: Herramienta de análisis estático para C++ que ayuda a detectar errores y mejorar la calidad del código.\n",
    "- `pyflakes`: Herramienta de análisis estático para Python, útil para detectar errores comunes en scripts Python.\n",
    "- `pylint`: Herramienta de linting para Python que verifica el estilo y errores en el código Python.\n"
   ]
  },
  {
   "cell_type": "markdown",
   "id": "61cd6224",
   "metadata": {},
   "source": [
    "## 7. Exportación y configuración adicional"
   ]
  },
  {
   "cell_type": "markdown",
   "id": "b7fb6531",
   "metadata": {},
   "source": [
    "```xml\n",
    "<export>\n",
    "    <build_type>ament_cmake</build_type>\n",
    "    <gazebo_ros gazebo_model_path=\"/home/robousr/ROS2Dev/robot_2025_ws/install/examen_description/share/\"/>\n",
    "</export>\n"
   ]
  },
  {
   "cell_type": "markdown",
   "id": "af4b561f",
   "metadata": {},
   "source": [
    "- Especifica el tipo de construcción como `ament_cmake`.\n",
    "- `gazebo_model_path`: Define la ruta para los modelos de Gazebo.\n"
   ]
  },
  {
   "cell_type": "markdown",
   "id": "fd833056-9065-4ceb-9ca5-8903bbab1684",
   "metadata": {},
   "source": [
    "##### Autores: \n",
    "\n",
    "\n",
    "**Autor** Ian Leonardo Espino Vazquez [GitHub profile](https://github.com/IanEspino)\n",
    "\n",
    "**Autor** Jesús Velazquez Jalpilla [GitHub profile](https://github.com/JesusVelazquezJal)\n",
    "\n",
    "\n",
    "##### Revisor: M.I Enrique Peña Medina"
   ]
  },
  {
   "cell_type": "markdown",
   "id": "71fabba4-1aaa-450d-9b0e-464b9af2b81d",
   "metadata": {},
   "source": [
    "---"
   ]
  },
  {
   "cell_type": "code",
   "execution_count": null,
   "id": "2af8c4f9-36c2-4339-8cc7-222abca77f42",
   "metadata": {},
   "outputs": [],
   "source": []
  }
 ],
 "metadata": {
  "kernelspec": {
   "display_name": "Python 3 (ipykernel)",
   "language": "python",
   "name": "python3"
  },
  "language_info": {
   "codemirror_mode": {
    "name": "ipython",
    "version": 3
   },
   "file_extension": ".py",
   "mimetype": "text/x-python",
   "name": "python",
   "nbconvert_exporter": "python",
   "pygments_lexer": "ipython3",
   "version": "3.10.12"
  }
 },
 "nbformat": 4,
 "nbformat_minor": 5
}
