{
 "cells": [
  {
   "cell_type": "markdown",
   "id": "49e192d0-bc46-4e46-a1b8-84d4f19947ec",
   "metadata": {},
   "source": [
    "## Scara_position_controller.yaml <a name=\"Scara_position_controller.yaml\"></a>"
   ]
  },
  {
   "cell_type": "markdown",
   "id": "cc4b50c2-6fee-42ab-8f4c-57ae8c797e31",
   "metadata": {},
   "source": [
    "---"
   ]
  },
  {
   "cell_type": "markdown",
   "id": "7e847873",
   "metadata": {},
   "source": [
    "```yaml\n",
    "controller_manager:\n",
    "  ros__parameters:\n",
    "    update_rate: 100  # Hz\n",
    "    scara_position_controller:  #-------\n",
    "      type: forward_command_controller/ForwardCommandController\n",
    "    joint_state_broadcaster:\n",
    "      type: joint_state_broadcaster/JointStateBroadcaster\n",
    "    scara_position_controller:  #---------\n",
    "      ros__parameters:\n",
    "        joints:\n",
    "          - link_1_joint\n",
    "          - link_2_joint\n",
    "          - link_3_joint\n",
    "        interface_name: position\n",
    "```\n"
   ]
  },
  {
   "cell_type": "markdown",
   "id": "4a55aae9",
   "metadata": {},
   "source": [
    "El archivo scara_position_controller.yaml es parte de un sistema basado en ROS (Robot\n",
    "Operating System), diseñado para controlar un robot SCARA (Selective Compliance\n",
    "Assembly Robot Arm). A continuación, te explico de forma sencilla cada sección y línea del\n",
    "código."
   ]
  },
  {
   "cell_type": "markdown",
   "id": "956f3a62-78ac-47db-8f13-93559b18c89a",
   "metadata": {},
   "source": [
    "## Explicación General <a name=\"Explicación General\"></a>\n",
    "\n",
    "El archivo es un archivo de configuración en formato YAML que define cómo se\n",
    "controlarán las articulaciones (joints) del robot SCARA, utilizando controladores específicos\n",
    "dentro de ROS. Este archivo se utiliza para cargar los controladores cuando ejecutas tu\n",
    "robot en ROS."
   ]
  },
  {
   "cell_type": "markdown",
   "id": "d25ccc5a-530a-4f96-8865-e14ab064d047",
   "metadata": {},
   "source": [
    "---"
   ]
  },
  {
   "cell_type": "markdown",
   "id": "464839fa-d3ad-49e4-b9a0-20a241d7b29a",
   "metadata": {},
   "source": [
    "## Análisis Línea por Línea   <a name=\"Análisis Línea por Línea\"></a>\n",
    "\n"
   ]
  },
  {
   "cell_type": "markdown",
   "id": "ba9ee97c",
   "metadata": {},
   "source": [
    "● controller_manager: Se encarga de gestionar los controladores que van a operar\n",
    "sobre tu robot.\n",
    "\n",
    "● update_rate: 100: Indica que el sistema actualizará el estado de los controladores\n",
    "100 veces por segundo.\n",
    "\n",
    "● update_rate: 100: Indica que el sistema actualizará el estado de los controladores\n",
    "100 veces por segundo.\n",
    "\n",
    "● scara_position_controller: Define un controlador que se utilizará para manejar el\n",
    "robot.\n",
    "\n",
    "● type: Especifica el tipo de controlador. Aquí se está utilizando un\n",
    "ForwardCommandController, que permite enviar comandos de posición\n",
    "directamente a las articulaciones del robot.\n",
    "\n",
    "● joint_state_broadcaster: Es un nodo que se encarga de transmitir el estado de\n",
    "todas las articulaciones del robot.\n",
    "\n",
    "● type: Aquí indica que estamos usando un JointStateBroadcaster, que publica\n",
    "información sobre la posición, velocidad y esfuerzo de las articulaciones.\n",
    "\n",
    "● scara_position_controller: Nuevamente, aquí se configuran los parámetros\n",
    "específicos para el controlador de posición.\n",
    "\n",
    "● ros__parameters: Sección que contiene los parámetros para este controlador en\n",
    "particular.\n",
    "\n",
    "● joints: Aquí defines las articulaciones que va a controlar el sistema:\n",
    "○ link_1_joint: Articulación del primer eslabón.\n",
    "○ link_2_joint: Articulación del segundo eslabón.\n",
    "○ link_3_joint: Articulación del tercer eslabón.\n",
    "\n",
    "● interface_name: position: Indica que este controlador trabajará sobre la posición\n",
    "de las articulaciones."
   ]
  },
  {
   "cell_type": "markdown",
   "id": "2acd1bc7-f4b0-4e27-ae28-c82ce4ea1aa0",
   "metadata": {},
   "source": [
    "### scara_trajectory_controller.yaml"
   ]
  },
  {
   "cell_type": "markdown",
   "id": "7680c7df-c4e4-4df5-b13a-5b51b4f90107",
   "metadata": {},
   "source": [
    "```yaml\n",
    "controller_manager:\n",
    "  ros__parameters:\n",
    "    update_rate: 100  # Hz\n",
    "    scara_trajectory_controller:\n",
    "      type: joint_trajectory_controller/JointTrajectoryController\n",
    "      # Note: Unlike forward_command_controller/ForwardCommandController\n",
    "      # with joint_trajectory_controller/JointTrajectoryController, the joint position is not\n",
    "      # instantaneously reached\n",
    "    joint_state_broadcaster:\n",
    "      type: joint_state_broadcaster/JointStateBroadcaster\n",
    "    scara_trajectory_controller:\n",
    "      ros__parameters:\n",
    "        command_interfaces:\n",
    "          - position\n",
    "        state_interfaces:\n",
    "          - position\n",
    "          - velocity\n",
    "        # - effort\n",
    "        joints:\n",
    "          - link_1_joint\n",
    "          - link_2_joint\n",
    "          - link_3_joint\n",
    "        state_publish_rate: 50.0\n",
    "        action_monitor_rate: 20.0\n",
    "        allow_partial_joints_goal: false\n",
    "        open_loop_control: true\n",
    "        constraints:\n",
    "          stopped_velocity_tolerance: 0.01\n",
    "        goal_time: 0.0\n",
    "\n",
    "joint1:\n",
    "  trajectory: 0.05\n",
    "  goal: 0.03\n",
    "```\n"
   ]
  },
  {
   "cell_type": "markdown",
   "id": "a99ea0cd-3079-4dfa-a2ed-b3ebb77d4bac",
   "metadata": {},
   "source": [
    "### Explicación General del Código"
   ]
  },
  {
   "cell_type": "markdown",
   "id": "c8cbe495",
   "metadata": {},
   "source": [
    "El archivo está configurando un controlador de trayectorias para un robot SCARA\n",
    "utilizando ROS y el paquete joint_trajectory_controller. A diferencia del controlador de\n",
    "posición (ForwardCommandController) que vimos antes, este controlador permite enviar\n",
    "trayectorias completas para que el robot las siga de manera continua y suave, lo cual es\n",
    "ideal para aplicaciones donde necesitas movimientos precisos y fluidos."
   ]
  },
  {
   "cell_type": "markdown",
   "id": "f1395b91-c9d5-4ad3-bc2f-00c7b019312e",
   "metadata": {},
   "source": [
    "● controller_manager: Este bloque inicial configura el gestor de controladores para\n",
    "el robot.\n",
    "\n",
    "● update_rate: 100: El sistema actualiza los controladores 100 veces por segundo\n",
    "(100 Hz).\n",
    "\n",
    "● scara_trajectory_controller: Aquí se define un controlador de trayectorias.\n",
    "\n",
    "● Type: Especifica que se utilizará un JointTrajectoryController, que se encarga de\n",
    "ejecutar una secuencia de posiciones y velocidades para las articulaciones.\n",
    "\n",
    "● Nota: A diferencia del ForwardCommandController, el movimiento no es\n",
    "instantáneo, sino que sigue una trayectoria suave para alcanzar la posición\n",
    "deseada.\n",
    "\n",
    "● joint_state_broadcaster: Permite transmitir el estado de las articulaciones, lo que\n",
    "incluye la posición, velocidad (y esfuerzo, si está disponible) para que otros nodos\n",
    "en ROS puedan usar esa información."
   ]
  },
  {
   "cell_type": "markdown",
   "id": "c5da270a",
   "metadata": {},
   "source": [
    "### Configuración del Controlador de Trayectorias"
   ]
  },
  {
   "cell_type": "markdown",
   "id": "b2ccf07b",
   "metadata": {},
   "source": [
    "```yaml\n",
    "scara_trajectory_controller:\n",
    "  ros__parameters:\n",
    "    command_interfaces:\n",
    "      - position\n",
    "    state_interfaces:\n",
    "      - position\n",
    "      - velocity\n",
    "    # - effort\n",
    "```\n"
   ]
  },
  {
   "cell_type": "markdown",
   "id": "4edada23",
   "metadata": {},
   "source": [
    "● command_interfaces: Indica que el controlador actuará sobre la posición de las\n",
    "articulaciones.\n",
    "\n",
    "● state_interfaces: Aquí se definen las interfaces de estado:\n",
    "○ position: Lectura de la posición actual.\n",
    "○ velocity: Lectura de la velocidad.\n",
    "○ effort (comentado): Se puede habilitar si necesitas leer los esfuerzos, pero\n",
    "en este caso está desactivado."
   ]
  },
  {
   "cell_type": "markdown",
   "id": "ebfc6569",
   "metadata": {},
   "source": [
    "```yaml\n",
    "joints:\n",
    "  - link_1_joint\n",
    "  - link_2_joint\n",
    "  - link_3_joint\n",
    "```\n"
   ]
  },
  {
   "cell_type": "markdown",
   "id": "015f1d53",
   "metadata": {},
   "source": [
    "● joints: Aquí defines las articulaciones que se controlarán:\n",
    "○ link_1_joint: Primera articulación.\n",
    "○ link_2_joint: Segunda articulación.\n",
    "○ link_3_joint: Tercera articulación."
   ]
  },
  {
   "cell_type": "markdown",
   "id": "717cce1b",
   "metadata": {},
   "source": [
    "```yaml\n",
    "state_publish_rate: 50.0\n",
    "action_monitor_rate: 20.0\n",
    "```\n"
   ]
  },
  {
   "cell_type": "markdown",
   "id": "dbb40517",
   "metadata": {},
   "source": [
    "● state_publish_rate: El controlador publicará el estado del robot 50 veces por\n",
    "segundo (50 Hz).\n",
    "\n",
    "● action_monitor_rate: La frecuencia con la que se monitorea el estado de las\n",
    "acciones (trayectorias) es 20 veces por segundo (20 Hz)."
   ]
  },
  {
   "cell_type": "markdown",
   "id": "8eac269c",
   "metadata": {},
   "source": [
    "### Parámetros Adicionales"
   ]
  },
  {
   "cell_type": "markdown",
   "id": "3430b0b6",
   "metadata": {},
   "source": [
    "```yaml\n",
    "allow_partial_joints_goal: false\n",
    "open_loop_control: true\n",
    "```\n"
   ]
  },
  {
   "cell_type": "markdown",
   "id": "5ceb042b",
   "metadata": {},
   "source": [
    "● allow_partial_joints_goal: Si está en false, se requiere que todas las\n",
    "articulaciones del robot tengan un objetivo de posición. Si estuviera en true, podrías\n",
    "enviar comandos solo a algunas articulaciones.\n",
    "\n",
    "● open_loop_control: Si está en true, se asume que el robot no tiene\n",
    "retroalimentación cerrada (control en bucle abierto). Esto significa que el sistema\n",
    "asume que las órdenes enviadas se cumplen sin verificar la posición real."
   ]
  },
  {
   "cell_type": "markdown",
   "id": "b7096670",
   "metadata": {},
   "source": [
    "### Configuración de Restricciones"
   ]
  },
  {
   "cell_type": "markdown",
   "id": "7a7f892c",
   "metadata": {},
   "source": [
    "```yaml\n",
    "constraints:\n",
    "  stopped_velocity_tolerance: 0.01\n",
    "  goal_time: 0.0\n",
    "\n",
    "joint1:\n",
    "  trajectory: 0.05\n",
    "  goal: 0.03\n",
    "```\n"
   ]
  },
  {
   "cell_type": "markdown",
   "id": "73bc1612",
   "metadata": {},
   "source": [
    "● constraints: Aquí defines restricciones para el movimiento del robot.\n",
    "○ stopped_velocity_tolerance: 0.01: Permite una tolerancia de 0.01 radianes\n",
    "por segundo cuando el robot se detiene.\n",
    "○ goal_time: 0.0: Indica que no hay tiempo extra permitido para alcanzar la\n",
    "meta.\n",
    "\n",
    "● joint1: Define restricciones específicas para la primera articulación:\n",
    "○ trajectory: 0.05: Permite una desviación de 0.05 radianes durante la\n",
    "ejecución de la trayectoria.\n",
    "○ goal: 0.03: La desviación máxima permitida al alcanzar la posición final es de\n",
    "0.03 radianes."
   ]
  },
  {
   "cell_type": "markdown",
   "id": "fd833056-9065-4ceb-9ca5-8903bbab1684",
   "metadata": {},
   "source": [
    "##### Autores: \n",
    "\n",
    "**Autor** Ian Leonardo Espino Vazquez [GitHub profile](https://github.com/IanEspino)\n",
    "\n",
    "**Autor** Jesús Velazquez Jalpilla [GitHub profile](https://github.com/JesusVelazquezJal)\n",
    "\n",
    "\n",
    "##### Revisor: M.I Enrique Peña Medina"
   ]
  },
  {
   "cell_type": "markdown",
   "id": "71fabba4-1aaa-450d-9b0e-464b9af2b81d",
   "metadata": {},
   "source": [
    "---"
   ]
  },
  {
   "cell_type": "code",
   "execution_count": null,
   "id": "2af8c4f9-36c2-4339-8cc7-222abca77f42",
   "metadata": {},
   "outputs": [],
   "source": []
  }
 ],
 "metadata": {
  "kernelspec": {
   "display_name": "Python 3 (ipykernel)",
   "language": "python",
   "name": "python3"
  },
  "language_info": {
   "codemirror_mode": {
    "name": "ipython",
    "version": 3
   },
   "file_extension": ".py",
   "mimetype": "text/x-python",
   "name": "python",
   "nbconvert_exporter": "python",
   "pygments_lexer": "ipython3",
   "version": "3.10.12"
  }
 },
 "nbformat": 4,
 "nbformat_minor": 5
}
